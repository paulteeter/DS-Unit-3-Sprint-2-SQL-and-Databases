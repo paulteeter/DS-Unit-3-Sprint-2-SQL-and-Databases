{
 "cells": [
  {
   "cell_type": "code",
   "execution_count": 1,
   "metadata": {},
   "outputs": [],
   "source": [
    "import sqlite3"
   ]
  },
  {
   "cell_type": "code",
   "execution_count": 2,
   "metadata": {},
   "outputs": [
    {
     "name": "stdout",
     "output_type": "stream",
     "text": [
      "<sqlite3.Connection object at 0x10d2ab7b0>\n"
     ]
    }
   ],
   "source": [
    "conn = sqlite3.connect('chinook.db')\n",
    "print(conn)"
   ]
  },
  {
   "cell_type": "code",
   "execution_count": 7,
   "metadata": {},
   "outputs": [
    {
     "data": {
      "text/plain": [
       "['__class__',\n",
       " '__delattr__',\n",
       " '__dir__',\n",
       " '__doc__',\n",
       " '__eq__',\n",
       " '__format__',\n",
       " '__ge__',\n",
       " '__getattribute__',\n",
       " '__gt__',\n",
       " '__hash__',\n",
       " '__init__',\n",
       " '__init_subclass__',\n",
       " '__iter__',\n",
       " '__le__',\n",
       " '__lt__',\n",
       " '__ne__',\n",
       " '__new__',\n",
       " '__next__',\n",
       " '__reduce__',\n",
       " '__reduce_ex__',\n",
       " '__repr__',\n",
       " '__setattr__',\n",
       " '__sizeof__',\n",
       " '__str__',\n",
       " '__subclasshook__',\n",
       " 'arraysize',\n",
       " 'close',\n",
       " 'connection',\n",
       " 'description',\n",
       " 'execute',\n",
       " 'executemany',\n",
       " 'executescript',\n",
       " 'fetchall',\n",
       " 'fetchmany',\n",
       " 'fetchone',\n",
       " 'lastrowid',\n",
       " 'row_factory',\n",
       " 'rowcount',\n",
       " 'setinputsizes',\n",
       " 'setoutputsize']"
      ]
     },
     "execution_count": 7,
     "metadata": {},
     "output_type": "execute_result"
    }
   ],
   "source": [
    "cursor = conn.cursor()\n",
    "dir(cursor)"
   ]
  },
  {
   "cell_type": "code",
   "execution_count": 8,
   "metadata": {},
   "outputs": [
    {
     "name": "stdout",
     "output_type": "stream",
     "text": [
      "[(21, 90, 'Iron Maiden'), (14, 22, 'Led Zeppelin'), (11, 58, 'Deep Purple'), (10, 150, 'U2'), (10, 50, 'Metallica'), (6, 114, 'Ozzy Osbourne'), (5, 118, 'Pearl Jam'), (4, 21, 'Various Artists'), (4, 152, 'Van Halen'), (4, 149, 'Lost'), (4, 84, 'Foo Fighters'), (4, 82, 'Faith No More'), (3, 142, 'The Rolling Stones'), (3, 156, 'The Office'), (3, 59, 'Santana'), (3, 127, 'Red Hot Chili Peppers'), (3, 124, 'R.E.M.'), (3, 51, 'Queen'), (3, 113, 'Os Paralamas Do Sucesso'), (3, 68, 'Miles Davis'), (3, 92, 'Jamiroquai'), (3, 88, \"Guns N' Roses\"), (3, 27, 'Gilberto Gil'), (3, 226, 'Eugene Ormandy'), (3, 248, 'Berliner Philharmoniker & Herbert Von Karajan'), (3, 8, 'Audioslave'), (2, 146, 'Titãs'), (2, 145, 'Tim Maia'), (2, 143, 'The Tea Party'), (2, 139, 'The Cult'), (2, 137, 'The Black Crowes'), (2, 53, 'Spyro Gyra'), (2, 131, 'Smashing Pumpkins'), (2, 130, 'Skank'), (2, 110, 'Nirvana'), (2, 42, 'Milton Nascimento'), (2, 245, 'Michael Tilson Thomas & San Francisco Symphony'), (2, 101, 'Lulu Santos'), (2, 99, 'Legião Urbana'), (2, 52, 'Kiss'), (2, 54, 'Green Day'), (2, 81, 'Eric Clapton'), (2, 208, 'English Concert & Trevor Pinnock'), (2, 80, 'Djavan'), (2, 77, 'Cássia Eller'), (2, 76, 'Creedence Clearwater Revival'), (2, 19, 'Cidade Negra'), (2, 18, 'Chico Science & Nação Zumbi'), (2, 16, 'Caetano Veloso'), (2, 12, 'Black Sabbath'), (2, 11, 'Black Label Society'), (2, 147, 'Battlestar Galactica'), (2, 6, 'Antônio Carlos Jobim'), (2, 252, 'Amy Winehouse'), (2, 2, 'Accept'), (2, 1, 'AC/DC'), (1, 155, 'Zeca Pagodinho'), (1, 212, 'Yo-Yo Ma'), (1, 255, 'Yehudi Menuhin'), (1, 211, 'Wilhelm Kempff'), (1, 72, 'Vinícius De Moraes'), (1, 153, 'Velvet Revolver'), (1, 151, 'UB40'), (1, 70, 'Toquinho & Vinícius'), (1, 231, 'Ton Koopman'), (1, 144, 'The Who'), (1, 200, 'The Posies'), (1, 141, 'The Police'), (1, 247, \"The King's Singers\"), (1, 140, 'The Doors'), (1, 138, 'The Clash'), (1, 259, 'The 12 Cellists of The Berlin Philharmonic'), (1, 136, 'Terry Bozzio, Tony Levin & Steve Stevens'), (1, 204, 'Temple of the Dog'), (1, 135, 'System Of A Down'), (1, 134, 'Stone Temple Pilots'), (1, 133, 'Stevie Ray Vaughan & Double Trouble'), (1, 132, 'Soundgarden'), (1, 249, 'Sir Georg Solti, Sumi Jo & Wiener Philharmoniker'), (1, 221, 'Sir Georg Solti & Wiener Philharmoniker'), (1, 232, 'Sergei Prokofiev & Yuri Temirkanov'), (1, 179, 'Scorpions'), (1, 213, 'Scholars Baroque Ensemble'), (1, 128, 'Rush'), (1, 217, 'Royal Philharmonic Orchestra & Sir Thomas Beecham'), (1, 261, 'Roger Norrington, London Classical Players'), (1, 207, 'Richard Marlow & The Choir of Trinity College, Cambridge'), (1, 126, 'Raul Seixas'), (1, 125, 'Raimundos'), (1, 122, 'R.E.M. Feat. Kate Pearson'), (1, 121, 'Planet Hemp'), (1, 120, 'Pink Floyd'), (1, 275, 'Philip Glass Ensemble'), (1, 256, 'Philharmonia Orchestra & Sir Neville Marriner'), (1, 117, \"Paul D'Ianno\"), (1, 116, 'Passengers'), (1, 115, 'Page & Plant'), (1, 254, 'Otto Klemperer & Philharmonia Orchestra'), (1, 57, 'Os Mutantes'), (1, 218, 'Orchestre Révolutionnaire et Romantique & John Eliot Gardiner'), (1, 234, 'Orchestra of The Age of Enlightenment'), (1, 112, 'Olodum'), (1, 111, 'O Terço'), (1, 36, 'O Rappa'), (1, 203, 'Nicolaus Esterhazy Sinfonia'), (1, 274, 'Nash Ensemble'), (1, 109, 'Mötley Crüe'), (1, 108, 'Mônica Marianno'), (1, 106, 'Motörhead'), (1, 269, 'Michele Campanella'), (1, 105, 'Men At Work'), (1, 271, 'Mela Tenenbaum, Pro Musica Prague & Richard Kapp'), (1, 238, 'Maurizio Pollini'), (1, 104, 'Marvin Gaye'), (1, 266, 'Martin Roscoe'), (1, 103, 'Marisa Monte'), (1, 102, 'Marillion'), (1, 24, 'Marcos Valle'), (1, 227, 'Luciano Pavarotti'), (1, 201, 'Luciana Souza/Romero Lubambo'), (1, 223, 'London Symphony Orchestra & Sir Charles Mackerras'), (1, 258, 'Les Arts Florissants & William Christie'), (1, 228, 'Leonard Bernstein & New York Philharmonic'), (1, 100, 'Lenny Kravitz'), (1, 264, \"Kent Nagano and Orchestre de l'Opéra de Lyon\"), (1, 199, 'Karsh Kale'), (1, 265, 'Julian Bream'), (1, 98, 'Judas Priest'), (1, 97, 'João Suplicy'), (1, 96, 'Jota Quest'), (1, 46, 'Jorge Ben'), (1, 95, 'Joe Satriani'), (1, 94, 'Jimi Hendrix'), (1, 236, 'James Levine'), (1, 91, 'James Brown'), (1, 93, 'JET'), (1, 268, 'Itzhak Perlman'), (1, 89, 'Incognito'), (1, 180, 'House Of Pain'), (1, 210, 'Hilary Hahn, Jeffrey Kahane, Los Angeles Chamber Orchestra & Margaret Batjer'), (1, 148, 'Heroes'), (1, 225, 'Herbert Von Karajan, Mirella Freni & Wiener Philharmoniker'), (1, 198, 'Habib Koité and Bamada'), (1, 267, 'Göteborgs Symfoniker & Neeme Järvi'), (1, 240, 'Gustav Mahler'), (1, 56, 'Gonzaguinha'), (1, 87, 'Godsmack'), (1, 270, 'Gerald Moore'), (1, 69, 'Gene Krupa'), (1, 86, 'Funk Como Le Gusta'), (1, 251, 'Fretwork'), (1, 23, 'Frank Zappa & Captain Beefheart'), (1, 85, 'Frank Sinatra'), (1, 241, 'Felix Schmidt, London Symphony Orchestra & Rafael Frühbeck de Burgos'), (1, 83, 'Falamansa'), (1, 263, 'Equale Brass Ensemble, John Eliot Gardiner & Munich Monteverdi Orchestra and Choir'), (1, 272, 'Emerson String Quartet'), (1, 235, 'Emanuel Ax, Eugene Ormandy & Philadelphia Orchestra'), (1, 41, 'Elis Regina'), (1, 242, 'Edo de Waart & San Francisco Symphony'), (1, 37, 'Ed Motta'), (1, 157, 'Dread Zeppelin'), (1, 79, 'Dennis Chambers'), (1, 78, 'Def Leppard'), (1, 55, 'David Coverdale'), (1, 20, 'Cláudio Zoli'), (1, 250, \"Christopher O'Riley\"), (1, 205, 'Chris Cornell'), (1, 246, 'Chor der Wiener Staatsoper, Herbert Von Karajan & Wiener Philharmoniker'), (1, 244, 'Choir Of Westminster Abbey & Simon Preston'), (1, 17, 'Chico Buarque'), (1, 233, 'Chicago Symphony Orchestra & Fritz Reiner'), (1, 220, 'Chicago Symphony Chorus, Chicago Symphony Orchestra & Sir Georg Solti'), (1, 262, \"Charles Dutoit & L'Orchestre Symphonique de Montréal\"), (1, 253, 'Calexico'), (1, 196, 'Cake'), (1, 273, 'C. Monteverdi, Nigel Rogers - Chiaroscuro; London Baroque; London Cornett & Sackbu'), (1, 15, 'Buddy Guy'), (1, 14, 'Bruce Dickinson'), (1, 219, 'Britten Sinfonia, Ivor Bolton & Lesley Garrett'), (1, 229, 'Boston Symphony Orchestra & Seiji Ozawa'), (1, 13, 'Body Count'), (1, 10, 'Billy Cobham'), (1, 216, 'Berliner Philharmoniker, Claudio Abbado & Sabine Meyer'), (1, 237, 'Berliner Philharmoniker & Hans Rosbaud'), (1, 158, 'Battlestar Galactica (Classic)'), (1, 224, 'Barry Wordsworth & BBC Concert Orchestra'), (1, 9, 'BackBeat'), (1, 159, 'Aquaman'), (1, 7, 'Apocalyptica'), (1, 243, 'Antal Doráti & London Symphony Orchestra'), (1, 209, 'Anne-Sophie Mutter, Herbert Von Karajan & Wiener Philharmoniker'), (1, 5, 'Alice In Chains'), (1, 206, 'Alberto Turco & Nova Schola Gregoriana'), (1, 4, 'Alanis Morissette'), (1, 197, 'Aisha Duo'), (1, 3, 'Aerosmith'), (1, 260, 'Adrian Leaper & Doreen de Feis'), (1, 257, 'Academy of St. Martin in the Fields, Sir Neville Marriner & Thurston Dart'), (1, 222, 'Academy of St. Martin in the Fields, John Birch, Sir Neville Marriner & Sylvia McNair'), (1, 215, 'Academy of St. Martin in the Fields Chamber Ensemble & Sir Neville Marriner'), (1, 214, 'Academy of St. Martin in the Fields & Sir Neville Marriner'), (1, 202, 'Aaron Goldberg'), (1, 230, 'Aaron Copland & London Symphony Orchestra')]\n"
     ]
    }
   ],
   "source": [
    "query = \"\"\"\n",
    "SELECT\n",
    "\tCOUNT(alb.AlbumId) as NumAlbums,\n",
    "\talb.ArtistId,\n",
    "\tart.Name as ArtistName\n",
    "FROM albums as alb\n",
    "JOIN artists as art\n",
    "ON alb.ArtistId = art.ArtistId\n",
    "GROUP BY ArtistName\n",
    "ORDER BY NumAlbums DESC;\n",
    "\"\"\"\n",
    "\n",
    "result = cursor.execute(query).fetchall()\n",
    "print(result)"
   ]
  },
  {
   "cell_type": "code",
   "execution_count": 10,
   "metadata": {},
   "outputs": [
    {
     "data": {
      "text/html": [
       "<div>\n",
       "<style scoped>\n",
       "    .dataframe tbody tr th:only-of-type {\n",
       "        vertical-align: middle;\n",
       "    }\n",
       "\n",
       "    .dataframe tbody tr th {\n",
       "        vertical-align: top;\n",
       "    }\n",
       "\n",
       "    .dataframe thead th {\n",
       "        text-align: right;\n",
       "    }\n",
       "</style>\n",
       "<table border=\"1\" class=\"dataframe\">\n",
       "  <thead>\n",
       "    <tr style=\"text-align: right;\">\n",
       "      <th></th>\n",
       "      <th>NumAlbums</th>\n",
       "      <th>ArtistId</th>\n",
       "      <th>ArtistName</th>\n",
       "    </tr>\n",
       "  </thead>\n",
       "  <tbody>\n",
       "    <tr>\n",
       "      <th>0</th>\n",
       "      <td>21</td>\n",
       "      <td>90</td>\n",
       "      <td>Iron Maiden</td>\n",
       "    </tr>\n",
       "    <tr>\n",
       "      <th>1</th>\n",
       "      <td>14</td>\n",
       "      <td>22</td>\n",
       "      <td>Led Zeppelin</td>\n",
       "    </tr>\n",
       "    <tr>\n",
       "      <th>2</th>\n",
       "      <td>11</td>\n",
       "      <td>58</td>\n",
       "      <td>Deep Purple</td>\n",
       "    </tr>\n",
       "    <tr>\n",
       "      <th>3</th>\n",
       "      <td>10</td>\n",
       "      <td>150</td>\n",
       "      <td>U2</td>\n",
       "    </tr>\n",
       "    <tr>\n",
       "      <th>4</th>\n",
       "      <td>10</td>\n",
       "      <td>50</td>\n",
       "      <td>Metallica</td>\n",
       "    </tr>\n",
       "  </tbody>\n",
       "</table>\n",
       "</div>"
      ],
      "text/plain": [
       "   NumAlbums  ArtistId    ArtistName\n",
       "0         21        90   Iron Maiden\n",
       "1         14        22  Led Zeppelin\n",
       "2         11        58   Deep Purple\n",
       "3         10       150            U2\n",
       "4         10        50     Metallica"
      ]
     },
     "execution_count": 10,
     "metadata": {},
     "output_type": "execute_result"
    }
   ],
   "source": [
    "import pandas as pd\n",
    "\n",
    "cols = list(map(lambda x: x[0], cursor.description))\n",
    "\n",
    "df = pd.DataFrame(data=result, columns=cols)\n",
    "df.head()"
   ]
  },
  {
   "cell_type": "code",
   "execution_count": 13,
   "metadata": {},
   "outputs": [],
   "source": [
    "def get_data(query, conn):\n",
    "    cursor = conn.cursor()\n",
    "    result = cursor.execute(query).fetchall()\n",
    "    \n",
    "    columns = list(map(lambda x: x[0], cursor.description))\n",
    "    \n",
    "    df = pd.DataFrame(data=result, columns=cols)\n",
    "    df.head()\n",
    "    return df"
   ]
  },
  {
   "cell_type": "code",
   "execution_count": 14,
   "metadata": {},
   "outputs": [],
   "source": [
    "df = get_data(query, conn)"
   ]
  },
  {
   "cell_type": "code",
   "execution_count": 15,
   "metadata": {},
   "outputs": [
    {
     "data": {
      "text/html": [
       "<div>\n",
       "<style scoped>\n",
       "    .dataframe tbody tr th:only-of-type {\n",
       "        vertical-align: middle;\n",
       "    }\n",
       "\n",
       "    .dataframe tbody tr th {\n",
       "        vertical-align: top;\n",
       "    }\n",
       "\n",
       "    .dataframe thead th {\n",
       "        text-align: right;\n",
       "    }\n",
       "</style>\n",
       "<table border=\"1\" class=\"dataframe\">\n",
       "  <thead>\n",
       "    <tr style=\"text-align: right;\">\n",
       "      <th></th>\n",
       "      <th>NumAlbums</th>\n",
       "      <th>ArtistId</th>\n",
       "      <th>ArtistName</th>\n",
       "    </tr>\n",
       "  </thead>\n",
       "  <tbody>\n",
       "    <tr>\n",
       "      <th>0</th>\n",
       "      <td>21</td>\n",
       "      <td>90</td>\n",
       "      <td>Iron Maiden</td>\n",
       "    </tr>\n",
       "    <tr>\n",
       "      <th>1</th>\n",
       "      <td>14</td>\n",
       "      <td>22</td>\n",
       "      <td>Led Zeppelin</td>\n",
       "    </tr>\n",
       "    <tr>\n",
       "      <th>2</th>\n",
       "      <td>11</td>\n",
       "      <td>58</td>\n",
       "      <td>Deep Purple</td>\n",
       "    </tr>\n",
       "    <tr>\n",
       "      <th>3</th>\n",
       "      <td>10</td>\n",
       "      <td>150</td>\n",
       "      <td>U2</td>\n",
       "    </tr>\n",
       "    <tr>\n",
       "      <th>4</th>\n",
       "      <td>10</td>\n",
       "      <td>50</td>\n",
       "      <td>Metallica</td>\n",
       "    </tr>\n",
       "    <tr>\n",
       "      <th>...</th>\n",
       "      <td>...</td>\n",
       "      <td>...</td>\n",
       "      <td>...</td>\n",
       "    </tr>\n",
       "    <tr>\n",
       "      <th>199</th>\n",
       "      <td>1</td>\n",
       "      <td>222</td>\n",
       "      <td>Academy of St. Martin in the Fields, John Birc...</td>\n",
       "    </tr>\n",
       "    <tr>\n",
       "      <th>200</th>\n",
       "      <td>1</td>\n",
       "      <td>215</td>\n",
       "      <td>Academy of St. Martin in the Fields Chamber En...</td>\n",
       "    </tr>\n",
       "    <tr>\n",
       "      <th>201</th>\n",
       "      <td>1</td>\n",
       "      <td>214</td>\n",
       "      <td>Academy of St. Martin in the Fields &amp; Sir Nevi...</td>\n",
       "    </tr>\n",
       "    <tr>\n",
       "      <th>202</th>\n",
       "      <td>1</td>\n",
       "      <td>202</td>\n",
       "      <td>Aaron Goldberg</td>\n",
       "    </tr>\n",
       "    <tr>\n",
       "      <th>203</th>\n",
       "      <td>1</td>\n",
       "      <td>230</td>\n",
       "      <td>Aaron Copland &amp; London Symphony Orchestra</td>\n",
       "    </tr>\n",
       "  </tbody>\n",
       "</table>\n",
       "<p>204 rows × 3 columns</p>\n",
       "</div>"
      ],
      "text/plain": [
       "     NumAlbums  ArtistId                                         ArtistName\n",
       "0           21        90                                        Iron Maiden\n",
       "1           14        22                                       Led Zeppelin\n",
       "2           11        58                                        Deep Purple\n",
       "3           10       150                                                 U2\n",
       "4           10        50                                          Metallica\n",
       "..         ...       ...                                                ...\n",
       "199          1       222  Academy of St. Martin in the Fields, John Birc...\n",
       "200          1       215  Academy of St. Martin in the Fields Chamber En...\n",
       "201          1       214  Academy of St. Martin in the Fields & Sir Nevi...\n",
       "202          1       202                                     Aaron Goldberg\n",
       "203          1       230          Aaron Copland & London Symphony Orchestra\n",
       "\n",
       "[204 rows x 3 columns]"
      ]
     },
     "execution_count": 15,
     "metadata": {},
     "output_type": "execute_result"
    }
   ],
   "source": [
    "df"
   ]
  },
  {
   "cell_type": "code",
   "execution_count": null,
   "metadata": {},
   "outputs": [],
   "source": []
  }
 ],
 "metadata": {
  "kernelspec": {
   "display_name": "Python 3",
   "language": "python",
   "name": "python3"
  },
  "language_info": {
   "codemirror_mode": {
    "name": "ipython",
    "version": 3
   },
   "file_extension": ".py",
   "mimetype": "text/x-python",
   "name": "python",
   "nbconvert_exporter": "python",
   "pygments_lexer": "ipython3",
   "version": "3.8.3"
  }
 },
 "nbformat": 4,
 "nbformat_minor": 4
}
